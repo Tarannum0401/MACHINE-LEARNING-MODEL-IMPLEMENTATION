{
 "cells": [
  {
   "cell_type": "code",
   "execution_count": 13,
   "id": "2d94fad7",
   "metadata": {},
   "outputs": [
    {
     "name": "stdout",
     "output_type": "stream",
     "text": [
      "  label                               text\n",
      "0   ham    Go until jurong point, crazy.. \n",
      "1   ham      Ok lar... Joking wif u oni...\n",
      "2  spam            Free entry in 2 a wkly \n",
      "3   ham          U dun say so early hor...\n",
      "4   ham  Nah I don't think he goes to usf,\n",
      "coloums: Index(['label', 'text'], dtype='object')\n",
      "Accuracy: 0.9434724091520862\n",
      "\n",
      "Classification Report:\n",
      "               precision    recall  f1-score   support\n",
      "\n",
      "           0       0.94      1.00      0.97      1925\n",
      "           1       1.00      0.59      0.74       304\n",
      "\n",
      "    accuracy                           0.94      2229\n",
      "   macro avg       0.97      0.79      0.85      2229\n",
      "weighted avg       0.95      0.94      0.94      2229\n",
      "\n"
     ]
    },
    {
     "data": {
      "image/png": "[encoded data removed]",
      "text/plain": [
       "<Figure size 640x480 with 2 Axes>"
      ]
     },
     "metadata": {},
     "output_type": "display_data"
    },
    {
     "data": {
      "text/plain": [
       "'Ham'"
      ]
     },
     "execution_count": 13,
     "metadata": {},
     "output_type": "execute_result"
    }
   ],
   "source": [
    "import  pandas as pd\n",
    "import numpy as np\n",
    "import matplotlib.pyplot as plt\n",
    "import seaborn as  sns\n",
    "\n",
    "\n",
    "from sklearn.model_selection import  train_test_split\n",
    "from  sklearn.feature_extraction.text  import TfidfVectorizer\n",
    "from  sklearn.naive_bayes  import MultinomialNB\n",
    "from  sklearn.metrics import  classification_report,confusion_matrix,accuracy_score\n",
    "\n",
    "\n",
    "import  nltk\n",
    "import  string\n",
    "\n",
    "# load  dataset\n",
    "df=pd.read_csv('spam.dataset.csv',encoding='latin-1' , sep='\\t',header=None)\n",
    "df.columns=['label','text']\n",
    "print (df.head())\n",
    "print( 'coloums:',df.columns)\n",
    "\n",
    "# df=df[['v1','v2']]\n",
    "# df.columns=['label','text']\n",
    "\n",
    "\n",
    "# convert  lables to  binary\n",
    "df['label']=df['label'].map  ({'ham':0,'spam':1})\n",
    "\n",
    "# clean  text   basic\n",
    "def  clean_text(text):\n",
    "    text=\"\".join([char  for  char  in  text if char  not in  string.punctuation])\n",
    "    return   text.lower()\n",
    "\n",
    "df['clean_text']=df['text'].apply(clean_text)\n",
    "\n",
    "# train  test split\n",
    "x=df['clean_text']\n",
    "y=df['label']\n",
    "x_train,x_test,y_train,y_test=train_test_split(x,y, test_size=0.4, random_state=45)\n",
    "\n",
    "# vectorization\n",
    "tfidf=TfidfVectorizer()\n",
    "x_train_tfidf=tfidf.fit_transform(x_train)\n",
    "x_test_tfidf=tfidf.transform(x_test)\n",
    "\n",
    "# model traning\n",
    "model=MultinomialNB()\n",
    "model.fit(x_train_tfidf,y_train)\n",
    "\n",
    "# model evalution\n",
    "y_pred=model.predict(x_test_tfidf)\n",
    "print(\"Accuracy:\",accuracy_score(y_test,y_pred))\n",
    "print(\"\\nClassification Report:\\n\",classification_report(y_test,y_pred))\n",
    "\n",
    "sns.heatmap(confusion_matrix(y_test,y_pred),annot=True,fmt='d',cmap='Blues')\n",
    "plt.xlabel('predicted')\n",
    "plt.ylabel('Actual')\n",
    "plt.title(\"Confusion Matrix\")\n",
    "plt.show()\n",
    "\n",
    "# prediction function\n",
    "def predict_spam(message):\n",
    "    cleaned=clean_text(message)\n",
    "    vectorized=tfidf.transform([cleaned])\n",
    "    prediction=model.predict(vectorized)\n",
    "    return 'spam' if prediction[0] ==1 else 'Ham'\n",
    "\n",
    "# test\n",
    "predict_spam(\"congratlations! You've won  a free ticket.\")\n",
    "predict_spam(\"congratulation! You won a free iphone\")\n",
    "predict_spam(\"I will call you back in 10 mints\")"
   ]
  }
 ],
 "metadata": {
  "kernelspec": {
   "display_name": "Python 3",
   "language": "python",
   "name": "python3"
  },
  "language_info": {
   "codemirror_mode": {
    "name": "ipython",
    "version": 3
   },
   "file_extension": ".py",
   "mimetype": "text/x-python",
   "name": "python",
   "nbconvert_exporter": "python",
   "pygments_lexer": "ipython3",
   "version": "3.13.5"
  }
 },
 "nbformat": 4,
 "nbformat_minor": 5
}
